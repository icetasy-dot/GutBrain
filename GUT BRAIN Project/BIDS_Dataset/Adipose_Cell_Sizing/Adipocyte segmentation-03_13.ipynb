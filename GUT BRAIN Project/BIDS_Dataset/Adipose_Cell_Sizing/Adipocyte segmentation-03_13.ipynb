{
 "cells": [
  {
   "cell_type": "code",
   "execution_count": 1,
   "metadata": {},
   "outputs": [
    {
     "name": "stdout",
     "output_type": "stream",
     "text": [
      "Requirement already satisfied: opencv-contrib-python in c:\\users\\ina\\anaconda3\\lib\\site-packages (4.2.0.32)\n",
      "Requirement already satisfied: numpy>=1.14.5 in c:\\users\\ina\\anaconda3\\lib\\site-packages (from opencv-contrib-python) (1.16.5)\n"
     ]
    }
   ],
   "source": [
    "# install the following modules if never used them before\n",
    "# ! pip install opencv-python\n",
    "# ! pip install scipy\n",
    "# ! pip install imutils\n",
    "# ! pip install opencv-contrib-python"
   ]
  },
  {
   "cell_type": "code",
   "execution_count": 1,
   "metadata": {},
   "outputs": [],
   "source": [
    "# import modules\n",
    "\n",
    "from scipy.spatial import distance as dist\n",
    "\n",
    "import cv2\n",
    "import numpy as np\n",
    "import argparse\n",
    "import imutils\n",
    "from matplotlib import pyplot as plt"
   ]
  },
  {
   "cell_type": "markdown",
   "metadata": {},
   "source": [
    "# Test parameters\n",
    "\n",
    "* change only the treshold of the first black and white threshold ?"
   ]
  },
  {
   "cell_type": "code",
   "execution_count": 33,
   "metadata": {},
   "outputs": [
    {
     "data": {
      "text/plain": [
       "array([[[255, 255, 255],\n",
       "        [255, 255, 255],\n",
       "        [255, 255, 255],\n",
       "        ...,\n",
       "        [255, 255, 255],\n",
       "        [255, 255, 255],\n",
       "        [255, 255, 255]],\n",
       "\n",
       "       [[255, 240, 255],\n",
       "        [255, 255, 255],\n",
       "        [255, 255, 255],\n",
       "        ...,\n",
       "        [255, 255, 255],\n",
       "        [255, 226, 245],\n",
       "        [255, 255, 255]],\n",
       "\n",
       "       [[255, 231, 255],\n",
       "        [255, 255, 255],\n",
       "        [255, 246, 255],\n",
       "        ...,\n",
       "        [255, 255, 255],\n",
       "        [255, 221, 237],\n",
       "        [255, 255, 255]],\n",
       "\n",
       "       ...,\n",
       "\n",
       "       [[208, 253, 238],\n",
       "        [255, 255, 255],\n",
       "        [255, 255, 255],\n",
       "        ...,\n",
       "        [255, 255, 255],\n",
       "        [217, 238, 231],\n",
       "        [255, 255, 255]],\n",
       "\n",
       "       [[255, 255, 255],\n",
       "        [255, 255, 255],\n",
       "        [255, 255, 255],\n",
       "        ...,\n",
       "        [255, 255, 255],\n",
       "        [255, 255, 255],\n",
       "        [255, 255, 255]],\n",
       "\n",
       "       [[255, 255, 255],\n",
       "        [255, 255, 255],\n",
       "        [255, 255, 255],\n",
       "        ...,\n",
       "        [255, 255, 255],\n",
       "        [255, 255, 255],\n",
       "        [255,   0, 255]]], dtype=uint8)"
      ]
     },
     "execution_count": 33,
     "metadata": {},
     "output_type": "execute_result"
    }
   ],
   "source": [
    "extension = 'Adipocytes/ID17-383d-15082019-ES.tif'\n",
    "\n",
    "\n",
    "# import original\n",
    "original = cv2.imread(extension)\n",
    "\n",
    "# get grayscale version and re-size it\n",
    "gray = cv2.cvtColor(original, cv2.COLOR_BGR2GRAY)\n",
    "\n",
    "# apply a black-and-white threshold\n",
    "# determine the treshold: mean of the image\n",
    "thresh_bw = gray.mean()\n",
    "(thresh, bw) = cv2.threshold(gray, thresh_bw, 255, cv2.THRESH_BINARY)\n",
    "# alpha between 200 and 250 usually\n",
    "# I tried putting a contrast first and it doesn't make it better\n",
    "\n",
    "# blurr the image\n",
    "blurred = cv2.GaussianBlur(bw, (27,27), 0)\n",
    "# erode and dilate\n",
    "kernel = np.ones((5,5),np.uint8)\n",
    "eroded = cv2.erode(blurred,kernel,iterations = 7)\n",
    "dilated = cv2.dilate(eroded,kernel,iterations = 7)\n",
    "\n",
    "# apply a second black-and-white threshold\n",
    "\n",
    "(thresh, bw_2) = cv2.threshold(dilated, 200, 255, cv2.THRESH_BINARY)\n",
    "\n",
    "# find the edges\n",
    "edged = cv2.Canny(bw_2, 150, 300)\n",
    "\n",
    "# find and measure contours\n",
    "contours = cv2.findContours(edged.copy(), cv2.RETR_EXTERNAL, cv2.CHAIN_APPROX_SIMPLE)\n",
    "contours = imutils.grab_contours(contours)\n",
    "\n",
    "cv2.drawContours(original, contours, -1, (0, 255, 0), 2)"
   ]
  },
  {
   "cell_type": "code",
   "execution_count": 36,
   "metadata": {},
   "outputs": [
    {
     "data": {
      "text/plain": [
       "-1"
      ]
     },
     "execution_count": 36,
     "metadata": {},
     "output_type": "execute_result"
    }
   ],
   "source": [
    "cv2.imshow(\"first black and white threshold\", bw)\n",
    "cv2.imshow(\"second black and white threshold\", bw_2)\n",
    "cv2.waitKey(0)"
   ]
  },
  {
   "cell_type": "code",
   "execution_count": 35,
   "metadata": {
    "scrolled": true
   },
   "outputs": [
    {
     "data": {
      "text/plain": [
       "-1"
      ]
     },
     "execution_count": 35,
     "metadata": {},
     "output_type": "execute_result"
    }
   ],
   "source": [
    "cv2.imshow(\"done\", original)\n",
    "cv2.waitKey(0)"
   ]
  },
  {
   "cell_type": "code",
   "execution_count": 32,
   "metadata": {},
   "outputs": [
    {
     "name": "stdout",
     "output_type": "stream",
     "text": [
      "181.00253092447917\n"
     ]
    }
   ],
   "source": [
    "print(dilated.mean())"
   ]
  },
  {
   "cell_type": "markdown",
   "metadata": {},
   "source": [
    "# Measure cell area"
   ]
  },
  {
   "cell_type": "code",
   "execution_count": 77,
   "metadata": {},
   "outputs": [
    {
     "name": "stdout",
     "output_type": "stream",
     "text": [
      "11.5\n",
      "448.89444279670715\n",
      "[[[1132  884]]\n",
      "\n",
      " [[1149  959]]\n",
      "\n",
      " [[1131  883]]\n",
      "\n",
      " [[1054  959]]]\n"
     ]
    }
   ],
   "source": [
    "cnt = contours[0]\n",
    "area = cv2.contourArea(cnt)\n",
    "print(area)\n",
    "perimeter = cv2.arcLength(cnt,True)\n",
    "print(perimeter)\n",
    "\n",
    "epsilon = 0.1*cv2.arcLength(cnt,True)\n",
    "approx = cv2.approxPolyDP(cnt,epsilon,True)\n",
    "print(approx)"
   ]
  },
  {
   "cell_type": "code",
   "execution_count": null,
   "metadata": {},
   "outputs": [],
   "source": [
    "pixelsPerMetric = 0.1\n",
    "# loop over the contours individually\n",
    "for c in cnts:\n",
    "\t# if the contour is not sufficiently large, ignore it\n",
    "\tif cv2.contourArea(c) < 100:\n",
    "\t\tcontinue\n",
    "\t# compute the rotated bounding box of the contour\n",
    "\torig = image.copy()\n",
    "\tbox = cv2.minAreaRect(c)\n",
    "\tbox = cv2.cv.BoxPoints(box) if imutils.is_cv2() else cv2.boxPoints(box)\n",
    "\tbox = np.array(box, dtype=\"int\")\n",
    "\t# order the points in the contour such that they appear\n",
    "\t# in top-left, top-right, bottom-right, and bottom-left\n",
    "\t# order, then draw the outline of the rotated bounding\n",
    "\t# box\n",
    "\tbox = perspective.order_points(box)\n",
    "\tcv2.drawContours(orig, [box.astype(\"int\")], -1, (0, 255, 0), 2)\n",
    "\t# loop over the original points and draw them\n",
    "\tfor (x, y) in box:\n",
    "\t\tcv2.circle(orig, (int(x), int(y)), 5, (0, 0, 255), -1)"
   ]
  },
  {
   "cell_type": "code",
   "execution_count": null,
   "metadata": {},
   "outputs": [],
   "source": []
  }
 ],
 "metadata": {
  "kernelspec": {
   "display_name": "Python 3",
   "language": "python",
   "name": "python3"
  },
  "language_info": {
   "codemirror_mode": {
    "name": "ipython",
    "version": 3
   },
   "file_extension": ".py",
   "mimetype": "text/x-python",
   "name": "python",
   "nbconvert_exporter": "python",
   "pygments_lexer": "ipython3",
   "version": "3.7.4"
  }
 },
 "nbformat": 4,
 "nbformat_minor": 4
}
