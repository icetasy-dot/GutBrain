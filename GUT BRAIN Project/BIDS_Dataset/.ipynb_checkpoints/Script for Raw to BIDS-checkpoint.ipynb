{
 "cells": [
  {
   "cell_type": "markdown",
   "metadata": {},
   "source": [
    "https://github.com/NILAB-UvA/bidsify"
   ]
  },
  {
   "cell_type": "code",
   "execution_count": 1,
   "metadata": {},
   "outputs": [
    {
     "name": "stdout",
     "output_type": "stream",
     "text": [
      "Collecting bidsify\n",
      "  Downloading bidsify-0.3.7.tar.gz (25 kB)\n",
      "Requirement already satisfied: numpy in /opt/anaconda3/lib/python3.7/site-packages (from bidsify) (1.18.1)\n",
      "Requirement already satisfied: nibabel in /opt/anaconda3/lib/python3.7/site-packages (from bidsify) (3.1.0)\n",
      "Requirement already satisfied: joblib in /opt/anaconda3/lib/python3.7/site-packages (from bidsify) (0.14.1)\n",
      "Requirement already satisfied: pandas in /opt/anaconda3/lib/python3.7/site-packages (from bidsify) (1.0.1)\n",
      "Requirement already satisfied: pyyaml in /opt/anaconda3/lib/python3.7/site-packages (from bidsify) (5.3)\n",
      "Requirement already satisfied: packaging>=14.3 in /opt/anaconda3/lib/python3.7/site-packages (from nibabel->bidsify) (20.1)\n",
      "Requirement already satisfied: pytz>=2017.2 in /opt/anaconda3/lib/python3.7/site-packages (from pandas->bidsify) (2019.3)\n",
      "Requirement already satisfied: python-dateutil>=2.6.1 in /opt/anaconda3/lib/python3.7/site-packages (from pandas->bidsify) (2.8.1)\n",
      "Requirement already satisfied: pyparsing>=2.0.2 in /opt/anaconda3/lib/python3.7/site-packages (from packaging>=14.3->nibabel->bidsify) (2.4.6)\n",
      "Requirement already satisfied: six in /opt/anaconda3/lib/python3.7/site-packages (from packaging>=14.3->nibabel->bidsify) (1.14.0)\n",
      "Building wheels for collected packages: bidsify\n",
      "  Building wheel for bidsify (setup.py) ... \u001b[?25ldone\n",
      "\u001b[?25h  Created wheel for bidsify: filename=bidsify-0.3.7-py3-none-any.whl size=25355 sha256=e5b1cf92a501ed432a1f617f987b45d81ae8dc5bc1449c3d8c46e54c95e3f277\n",
      "  Stored in directory: /Users/sylvainiceta/Library/Caches/pip/wheels/f3/3d/5b/bad12a6cb525c82dabe017f0f2ce06f83faf5d3c4b3ea9d6f9\n",
      "Successfully built bidsify\n",
      "Installing collected packages: bidsify\n",
      "Successfully installed bidsify-0.3.7\n"
     ]
    }
   ],
   "source": [
    "! pip install bidsify\n"
   ]
  },
  {
   "cell_type": "code",
   "execution_count": null,
   "metadata": {},
   "outputs": [],
   "source": []
  }
 ],
 "metadata": {
  "kernelspec": {
   "display_name": "Python 3",
   "language": "python",
   "name": "python3"
  },
  "language_info": {
   "codemirror_mode": {
    "name": "ipython",
    "version": 3
   },
   "file_extension": ".py",
   "mimetype": "text/x-python",
   "name": "python",
   "nbconvert_exporter": "python",
   "pygments_lexer": "ipython3",
   "version": "3.7.6"
  }
 },
 "nbformat": 4,
 "nbformat_minor": 4
}
