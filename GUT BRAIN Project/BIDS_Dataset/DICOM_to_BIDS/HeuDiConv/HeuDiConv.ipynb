{
 "cells": [
  {
   "cell_type": "code",
   "execution_count": 24,
   "metadata": {},
   "outputs": [
    {
     "name": "stdout",
     "output_type": "stream",
     "text": [
      ".\t\t\t.ipynb_checkpoints\tHeuDiConv.ipynb\n",
      "..\t\t\tBIDS\t\t\tNIFTI\n",
      ".DS_Store\t\tDICOM\t\t\treproin.py\n"
     ]
    }
   ],
   "source": [
    "ls -a\n"
   ]
  },
  {
   "cell_type": "code",
   "execution_count": 22,
   "metadata": {},
   "outputs": [
    {
     "name": "stdout",
     "output_type": "stream",
     "text": [
      "INFO: Running heudiconv version 0.8.0 latest 0.8.0\n",
      "INFO: Need to process 0 study sessions\n"
     ]
    }
   ],
   "source": [
    "docker run --rm -it -v /Users/sylvainiceta/Documents/NouveauxScan/DICOM:/data:ro -v /Users/sylvainiceta/Documents/NouveauxScan/BIDS:/output nipy/heudiconv:latest \\\n",
    "-d /data/{subject}/{session}/*.dcm -s 'RCX219_20202020' -ss 001 -c none -f convertall -o /output"
   ]
  },
  {
   "cell_type": "code",
   "execution_count": 1,
   "metadata": {},
   "outputs": [
    {
     "name": "stdout",
     "output_type": "stream",
     "text": [
      "INFO: Running heudiconv version 0.8.0 latest 0.8.0\n",
      "Traceback (most recent call last):\n",
      "  File \"/opt/miniconda-latest/bin/heudiconv\", line 11, in <module>\n",
      "    load_entry_point('heudiconv', 'console_scripts', 'heudiconv')()\n",
      "  File \"/src/heudiconv/heudiconv/cli/run.py\", line 134, in main\n",
      "    process_args(args)\n",
      "  File \"/src/heudiconv/heudiconv/cli/run.py\", line 287, in process_args\n",
      "    args.subjs, grouping=args.grouping)\n",
      "  File \"/src/heudiconv/heudiconv/parser.py\", line 131, in get_study_sessions\n",
      "    for sid in sids:\n",
      "TypeError: 'NoneType' object is not iterable\n"
     ]
    },
    {
     "ename": "",
     "evalue": "1",
     "output_type": "error",
     "traceback": []
    }
   ],
   "source": [
    "docker run --rm -it -v /Users/sylvainiceta/Documents/NouveauxScan/DICOM:/data:ro -v /Users/sylvainiceta/Documents/NouveauxScan/BIDS:/output nipy/heudiconv:latest \\\n",
    "-d /data/{subject}/{session}/*.dcm -c none -f convertall -o /output"
   ]
  },
  {
   "cell_type": "code",
   "execution_count": 2,
   "metadata": {},
   "outputs": [
    {
     "name": "stdout",
     "output_type": "stream",
     "text": [
      "Chris Rorden's dcm2niiX version v1.0.20200331  Clang11.0.3 (64-bit MacOS)\n",
      "Found 33 DICOM file(s)\n",
      "Skipping non-image DICOM: /Users/sylvainiceta/Documents/NouveauxScan/DICOM/RCX219_20202020/001/XX_0017\n",
      "Skipping non-image DICOM: /Users/sylvainiceta/Documents/NouveauxScan/DICOM/RCX219_20202020/001/XX_0011\n",
      "Skipping non-image DICOM: /Users/sylvainiceta/Documents/NouveauxScan/DICOM/RCX219_20202020/001/XX_0020\n",
      "Skipping non-image DICOM: /Users/sylvainiceta/Documents/NouveauxScan/DICOM/RCX219_20202020/001/XX_0027\n",
      "Philips Scaling Values RS:RI:SS = 0.821734:0:0.0211999 (see PMC3998685)\n",
      "Convert 1 DICOM as /Users/sylvainiceta/Documents/NouveauxScan/DICOM/RCX219_20202020/001/001_WIP_fMRI_3mm_FOOD3_20200220101235_801 (80x80x7334x1)\n",
      "slice orientation varies (localizer?) [0 1 0 0 0 -1] != [1 0 0 0 0 -1]\n",
      "Philips Scaling Values RS:RI:SS = 1.42222:0:0.162048 (see PMC3998685)\n",
      "Convert 1 DICOM as /Users/sylvainiceta/Documents/NouveauxScan/DICOM/RCX219_20202020/001/001_WIP_Survey_20200220101235_101 (320x320x3x3)\n",
      "Philips Scaling Values RS:RI:SS = 0.753846:0:0.0250827 (see PMC3998685)\n",
      "Convert 1 DICOM as /Users/sylvainiceta/Documents/NouveauxScan/DICOM/RCX219_20202020/001/001_WIP_revfMRI_20200220101235_1001 (80x80x45x3)\n",
      "no Varies\n",
      "1.32576 0 0.00326785\n",
      "Using RWVSlope:RWVIntercept = 1.32576:0\n",
      " Philips Scaling Values RS:RI:SS = 1.32576:0:0.00326785 (see PMC3998685)\n",
      "Convert 1 DICOM as /Users/sylvainiceta/Documents/NouveauxScan/DICOM/RCX219_20202020/001/001_WIP_B0_map_(immediate)_20200220101235_301_e1 (80x80x45x1)\n",
      "no Varies\n",
      "0.0815629 -167 12.285\n",
      "Using RWVSlope:RWVIntercept = 0.0815629:-167\n",
      " Philips Scaling Values RS:RI:SS = 0.0815629:-167:12.285 (see PMC3998685)\n",
      "Convert 1 DICOM as /Users/sylvainiceta/Documents/NouveauxScan/DICOM/RCX219_20202020/001/001_WIP_B0_map_(immediate)_20200220101235_301_e2_real (80x80x45x1)\n",
      "Philips Scaling Values RS:RI:SS = 0.810012:0:0.0219026 (see PMC3998685)\n",
      "Convert 1 DICOM as /Users/sylvainiceta/Documents/NouveauxScan/DICOM/RCX219_20202020/001/001_WIP_fMRI_3mm_FOOD1_20200220101235_601 (80x80x7662x1)\n",
      "Philips Scaling Values RS:RI:SS = 0.812698:0:0.0213886 (see PMC3998685)\n",
      "Convert 1 DICOM as /Users/sylvainiceta/Documents/NouveauxScan/DICOM/RCX219_20202020/001/001_WIP_fMRI_3mm_FOOD2_20200220101235_701 (80x80x7422x1)\n",
      "Skipping non-image DICOM: /Users/sylvainiceta/Documents/NouveauxScan/DICOM/RCX219_20202020/001/XX_0033\n",
      "Skipping non-image DICOM: /Users/sylvainiceta/Documents/NouveauxScan/DICOM/RCX219_20202020/001/XX_0003\n",
      "Skipping non-image DICOM: /Users/sylvainiceta/Documents/NouveauxScan/DICOM/RCX219_20202020/001/XX_0004\n",
      "Skipping non-image DICOM: /Users/sylvainiceta/Documents/NouveauxScan/DICOM/RCX219_20202020/001/XX_0014\n",
      "Skipping non-image DICOM: /Users/sylvainiceta/Documents/NouveauxScan/DICOM/RCX219_20202020/001/XX_0023\n",
      "no Varies\n",
      "1.30647 0 0.00819267\n",
      "Using RWVSlope:RWVIntercept = 1.30647:0\n",
      " Philips Scaling Values RS:RI:SS = 1.30647:0:0.00819267 (see PMC3998685)\n",
      "Convert 1 DICOM as /Users/sylvainiceta/Documents/NouveauxScan/DICOM/RCX219_20202020/001/001_WIP_B0_map_(immediate)_20200220101235_901_e1 (80x80x45x1)\n",
      "no Varies\n",
      "0.0815629 -167 12.285\n",
      "Using RWVSlope:RWVIntercept = 0.0815629:-167\n",
      " Philips Scaling Values RS:RI:SS = 0.0815629:-167:12.285 (see PMC3998685)\n",
      "Convert 1 DICOM as /Users/sylvainiceta/Documents/NouveauxScan/DICOM/RCX219_20202020/001/001_WIP_B0_map_(immediate)_20200220101235_901_e2_real (80x80x45x1)\n",
      "Philips Scaling Values RS:RI:SS = 0.834432:0:0.0205303 (see PMC3998685)\n",
      "Convert 1 DICOM as /Users/sylvainiceta/Documents/NouveauxScan/DICOM/RCX219_20202020/001/001_WIP_fMRI_3mm_REST_20200220101235_501 (80x80x45x225)\n",
      "Philips Scaling Values RS:RI:SS = 2.60757:0:0.00755359 (see PMC3998685)\n",
      "Convert 1 DICOM as /Users/sylvainiceta/Documents/NouveauxScan/DICOM/RCX219_20202020/001/001_WIP_T1W_3D_TFE_20200220101235_201 (240x240x176x1)\n",
      "Philips Scaling Values RS:RI:SS = 0.77094:0:0.0204021 (see PMC3998685)\n",
      "Convert 1 DICOM as /Users/sylvainiceta/Documents/NouveauxScan/DICOM/RCX219_20202020/001/001_WIP_revfMRI_20200220101235_401 (80x80x45x3)\n",
      "Skipping non-image DICOM: /Users/sylvainiceta/Documents/NouveauxScan/DICOM/RCX219_20202020/001/XX_0030\n",
      "Skipping non-image DICOM: /Users/sylvainiceta/Documents/NouveauxScan/DICOM/RCX219_20202020/001/XX_0008\n",
      "Conversion required 3.829969 seconds (2.887563 for core code).\n"
     ]
    }
   ],
   "source": [
    "dcm2niix /Users/sylvainiceta/Documents/NouveauxScan/DICOM/RCX219_20202020/001"
   ]
  },
  {
   "cell_type": "code",
   "execution_count": null,
   "metadata": {},
   "outputs": [],
   "source": []
  }
 ],
 "metadata": {
  "kernelspec": {
   "display_name": "Bash",
   "language": "bash",
   "name": "bash"
  },
  "language_info": {
   "codemirror_mode": "shell",
   "file_extension": ".sh",
   "mimetype": "text/x-sh",
   "name": "bash"
  }
 },
 "nbformat": 4,
 "nbformat_minor": 4
}
